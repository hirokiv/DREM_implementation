{
 "cells": [
  {
   "cell_type": "code",
   "execution_count": 7,
   "metadata": {},
   "outputs": [],
   "source": [
    "import adjugate_module\n",
    "# from ../matrix_operation import compute_adjugate_scipy, compute_adjugate_pybind11"
   ]
  },
  {
   "cell_type": "code",
   "execution_count": 2,
   "metadata": {},
   "outputs": [
    {
     "name": "stdout",
     "output_type": "stream",
     "text": [
      "Adjugate Matrix:\n",
      "[[ 2. -1.]\n",
      " [-2.  1.]]\n"
     ]
    }
   ],
   "source": [
    "import numpy as np\n",
    "\n",
    "# Create a matrix using numpy\n",
    "matrix = np.array([[1, 1], [2,2]], dtype=np.float64)\n",
    "\n",
    "# Compute its adjugate using your module\n",
    "adjugate_matrix = adjugate_module.compute_adjugate(matrix)\n",
    "\n",
    "print(\"Adjugate Matrix:\")\n",
    "print(adjugate_matrix)"
   ]
  },
  {
   "cell_type": "code",
   "execution_count": 8,
   "metadata": {},
   "outputs": [
    {
     "name": "stdout",
     "output_type": "stream",
     "text": [
      "0.042829036712646484\n",
      "0.5342040061950684\n"
     ]
    }
   ],
   "source": [
    "import time\n",
    "import scipy\n",
    "\n",
    "def compute_cofactor(matrix, i, j):\n",
    "    # Create a submatrix by removing the i-th row and j-th column\n",
    "    submatrix = np.delete(np.delete(matrix, i, axis=0), j, axis=1)\n",
    "    try:\n",
    "        # Compute the determinant of the submatrix\n",
    "        det = scipy.linalg.det(submatrix)\n",
    "    except np.linalg.LinAlgError:\n",
    "        # Handle the case where the submatrix is singular\n",
    "        det = 0\n",
    "    # Compute the cofactor\n",
    "    cofactor = ((-1) ** (i + j)) * det\n",
    "    return cofactor\n",
    "\n",
    "def compute_adjugate_scipy(matrix):\n",
    "    size = matrix.shape[0]\n",
    "    cofactor_matrix = np.zeros_like(matrix, dtype=float)\n",
    "\n",
    "    for i in range(size):\n",
    "        for j in range(size):\n",
    "            cofactor_matrix[i, j] = compute_cofactor(matrix, i, j)\n",
    "\n",
    "    # Transpose the cofactor matrix to get the adjugate\n",
    "    adjugate_matrix = cofactor_matrix.T\n",
    "    return adjugate_matrix\n",
    "\n",
    "def compute_adjugate_pybind11(matrix):\n",
    "    # this use cpp module under Cpp_lib directory\n",
    "    adjugate_matrix = adjugate_module.compute_adjugate(matrix)\n",
    "    return adjugate_matrix\n",
    "\n",
    "matrix = np.random.rand(12,12)\n",
    "\n",
    "start = time.time()\n",
    "for idx in np.arange(100):\n",
    "    adjugate_matrix1 = compute_adjugate_pybind11(matrix)\n",
    "end = time.time()\n",
    "\n",
    "print(end-start)\n",
    "\n",
    "\n",
    "start = time.time()\n",
    "for idx in np.arange(100):\n",
    "    adjugate_matrix2 = compute_adjugate_scipy(matrix)\n",
    "end = time.time()\n",
    "\n",
    "print(end-start)"
   ]
  },
  {
   "cell_type": "code",
   "execution_count": 17,
   "metadata": {},
   "outputs": [
    {
     "data": {
      "text/plain": [
       "True"
      ]
     },
     "execution_count": 17,
     "metadata": {},
     "output_type": "execute_result"
    }
   ],
   "source": [
    "#adjugate_matrix1[0]  == adjugate_matrix2[0]\n",
    "are_close = np.allclose(adjugate_matrix1, adjugate_matrix2, rtol=1e-5, atol=1e-8)\n",
    "are_close"
   ]
  },
  {
   "cell_type": "code",
   "execution_count": 14,
   "metadata": {},
   "outputs": [
    {
     "data": {
      "text/plain": [
       "array([-0.01924285, -0.0591429 ,  0.12081201,  0.06223361,  0.02980581,\n",
       "       -0.02345476, -0.02919883, -0.09100037,  0.01037158, -0.06607406,\n",
       "        0.03305482,  0.02368192])"
      ]
     },
     "execution_count": 14,
     "metadata": {},
     "output_type": "execute_result"
    }
   ],
   "source": []
  },
  {
   "cell_type": "code",
   "execution_count": null,
   "metadata": {},
   "outputs": [],
   "source": []
  },
  {
   "cell_type": "code",
   "execution_count": null,
   "metadata": {},
   "outputs": [],
   "source": []
  }
 ],
 "metadata": {
  "kernelspec": {
   "display_name": "base",
   "language": "python",
   "name": "python3"
  },
  "language_info": {
   "codemirror_mode": {
    "name": "ipython",
    "version": 3
   },
   "file_extension": ".py",
   "mimetype": "text/x-python",
   "name": "python",
   "nbconvert_exporter": "python",
   "pygments_lexer": "ipython3",
   "version": "3.11.3"
  }
 },
 "nbformat": 4,
 "nbformat_minor": 2
}
