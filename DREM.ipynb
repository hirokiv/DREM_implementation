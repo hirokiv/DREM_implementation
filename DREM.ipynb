{
 "cells": [
  {
   "cell_type": "code",
   "execution_count": 1,
   "metadata": {},
   "outputs": [
    {
     "name": "stdout",
     "output_type": "stream",
     "text": [
      "env: PYDEVD_DISABLE_FILE_VALIDATION=1\n"
     ]
    }
   ],
   "source": [
    "%load_ext autoreload\n",
    "%autoreload 2\n",
    "%env PYDEVD_DISABLE_FILE_VALIDATION=1"
   ]
  },
  {
   "cell_type": "code",
   "execution_count": 2,
   "metadata": {},
   "outputs": [],
   "source": [
    "import sys\n",
    "sys.path.append('Cpp_lib')\n",
    "import adjugate_module"
   ]
  },
  {
   "cell_type": "code",
   "execution_count": 3,
   "metadata": {},
   "outputs": [],
   "source": [
    "import numpy as np\n",
    "from scipy.integrate import solve_ivp\n",
    "import matplotlib.pyplot as plt\n",
    "import math \n",
    "\n",
    "from noise_generator import  stack_noise #, interp_stack_noise, interp_dict_noise\n",
    "import numpy as np\n",
    "from scipy.integrate import solve_ivp\n",
    "import matplotlib.pyplot as plt\n",
    "import math \n",
    "import os\n",
    "from tqdm.auto import tqdm\n",
    "# from robot_dynamics import compute_Y, robot_dynamics, error_dynamics, filter_dynamics\n",
    "# from matrix_operation import compute_adjugate_old, compute_adjugate_scipy, drem_adapt, regularizing_operator, regressor\n",
    "\n",
    "# the below solved by solve_ivp\n",
    "from DREM_routine import robot_dynamics_w_control_adaptation\n",
    "#  analysis and save utils\n",
    "from utils import analysis_result, save_params, save_as_pickle\n",
    "from noise_generator import wrap_interp_func, parse_noise_interp_dict\n",
    "\n",
    "# import sys\n",
    "# sys.path.append('~/Dropbox/PJ ModelDetection/DREM/DREM_implementation/Cpp_lib')\n",
    "# import adjugate_module"
   ]
  },
  {
   "cell_type": "code",
   "execution_count": null,
   "metadata": {},
   "outputs": [],
   "source": []
  },
  {
   "cell_type": "code",
   "execution_count": 4,
   "metadata": {},
   "outputs": [],
   "source": [
    "\n",
    "##########################\n",
    "# default parameters\n",
    "##########################\n",
    "\n",
    "# Define robot parameters (placeholders)\n",
    "# theta = np.array([6.3922, 1.4338, 0.0706, 0.0653, 2.4552, 0.2868, 113.6538, 46.1168, 2.0993, 2.6, 2.5, 1.5])\n",
    "theta = np.array([6.3922, 1.4338, 0.0706, 0.0653, 2.4552, 0.2868, 113.6538, 46.1168, 2.0993, 2.6, 2.5, 1.5])\n",
    "\n",
    "# initial estimate of theta0\n",
    "theta_hat0 = 0.0 * theta\n",
    "pdim = len(theta_hat0)\n",
    "ndim = 3 # state vector dim\n",
    "nfilter = 4 # including Y1\n",
    "q_d = np.array([np.pi/2, -np.pi/2, 0]) # desired position\n",
    "init_y = np.array([0, 0, np.pi/2, 0, 0, 0])\n",
    "\n",
    "f_const = {'lambda_phi' : 1.0, \n",
    "                'b2'    : 0.2, \n",
    "                'b3'    : 0.3, \n",
    "                'b4'    : 0.4, \n",
    "                'a2'    : 700.0, \n",
    "                'a3'    : 700.0, \n",
    "                'a4'    : 700.0, \n",
    "                'nfilter' : nfilter, \n",
    "                'ndim' : ndim, \n",
    "                'nrows' : nfilter * ndim, \n",
    "                'ncols' : pdim, \n",
    "                'theta' : theta,\n",
    "                'TMAX' : 2, #  seconds\n",
    "                'SWITCHFLAG' : False,   # if do regime switching\n",
    "                'THREON' : False,   # if do thresholding for estimated value. Either 1. 'const' constant threshold, 2. 'Sigma_mod' Sigma modification\n",
    "                'THRERT' : np.array([0.0, 2.0]),  # active when making thresholding on\n",
    "                'DREMON' : True,        # if use drem adaptation f_theta\n",
    "                'INTEGRALERROR' : False,        # if use drem adaptation f_theta\n",
    "                'q_d' : q_d,    # desired position\n",
    "                'noise_freq' : 5,  # hz\n",
    "                'sigma_o' : 0.01,\n",
    "                'init_y' : init_y,\n",
    "                'theta_hat0' : theta_hat0,\n",
    "                'ASYMDREM' : False, # update on DREM noise reduction asymptotically in RLS\n",
    "                }\n",
    "\n",
    "\n",
    "\n",
    "###########################################\n",
    "# Initial conditions: joint angles and velocities\n",
    "tau = np.zeros(ndim)\n",
    "Lambda = 10 * np.eye(ndim) \n",
    "Lambda_i = 5 * np.eye(ndim)  # lambda for integral error compensation\n",
    "Kv =     10 * np.eye(ndim)\n",
    "Psi =    10 * np.eye(pdim)\n",
    "Gamma =  10 * np.eye(pdim)\n",
    "Sigma_mod =  0.1 * np.eye(pdim)\n",
    "alpha = 0.50001\n",
    "\n",
    "control_gains = {\n",
    "    'Lambda' : Lambda, \n",
    "    'Lambda_i' : Lambda_i, \n",
    "    'Kv' : Kv,\n",
    "    'Psi' : Psi,\n",
    "    'Gamma' : Gamma, \n",
    "    'alpha' : alpha,\n",
    "    'Sigma_mod' : Sigma_mod\n",
    "}\n",
    "\n"
   ]
  },
  {
   "cell_type": "markdown",
   "metadata": {},
   "source": [
    "Main routine"
   ]
  },
  {
   "cell_type": "code",
   "execution_count": 11,
   "metadata": {},
   "outputs": [
    {
     "data": {
      "application/vnd.jupyter.widget-view+json": {
       "model_id": "7dbe392d59ab486b936162eae6a2865c",
       "version_major": 2,
       "version_minor": 0
      },
      "text/plain": [
       "  0%|          | 0/100.0 [00:00<?, ?it/s]"
      ]
     },
     "metadata": {},
     "output_type": "display_data"
    },
    {
     "ename": "KeyboardInterrupt",
     "evalue": "",
     "output_type": "error",
     "traceback": [
      "\u001b[0;31m---------------------------------------------------------------------------\u001b[0m",
      "\u001b[0;31mKeyboardInterrupt\u001b[0m                         Traceback (most recent call last)",
      "Cell \u001b[0;32mIn[11], line 119\u001b[0m\n\u001b[1;32m    107\u001b[0m     \u001b[38;5;28;01mreturn\u001b[39;00m robot_dynamics_w_control_adaptation(t, y, \u001b[38;5;241m*\u001b[39margs)\n\u001b[1;32m    110\u001b[0m \u001b[38;5;66;03m# delete prior Solve \u001b[39;00m\n\u001b[1;32m    111\u001b[0m \u001b[38;5;66;03m# try:\u001b[39;00m\n\u001b[1;32m    112\u001b[0m \u001b[38;5;66;03m#     del sol, y  # Attempt to delete 'my_variable'\u001b[39;00m\n\u001b[0;32m   (...)\u001b[0m\n\u001b[1;32m    117\u001b[0m \u001b[38;5;66;03m#sol = solve_ivp(robot_dynamics_w_control_adaptation, t_span, ytheta0, args=( control_gains, f_const, noise_info, ), dense_output=True, rtol=1e-3, atol=1e-6, events=callback)\u001b[39;00m\n\u001b[1;32m    118\u001b[0m \u001b[38;5;66;03m#sol = solve_ivp(wrapper, t_span, ytheta0, args=( control_gains, f_const, noise_interp_dict, ), dense_output=False, rtol=1, atol=1, max_step=0.0001, t_eval=t)\u001b[39;00m\n\u001b[0;32m--> 119\u001b[0m sol \u001b[38;5;241m=\u001b[39m solve_ivp(wrapper, t_span, ytheta0, args\u001b[38;5;241m=\u001b[39m( control_gains, f_const, noise_interp_dict, ), dense_output\u001b[38;5;241m=\u001b[39m\u001b[38;5;28;01mFalse\u001b[39;00m, rtol\u001b[38;5;241m=\u001b[39m\u001b[38;5;241m1e-3\u001b[39m, atol\u001b[38;5;241m=\u001b[39m\u001b[38;5;241m1e-4\u001b[39m, t_eval\u001b[38;5;241m=\u001b[39mt)\n\u001b[1;32m    120\u001b[0m y \u001b[38;5;241m=\u001b[39m sol\u001b[38;5;241m.\u001b[39my\n\u001b[1;32m    121\u001b[0m \u001b[38;5;66;03m#sol = solve_ivp(wrapper, t_span, ytheta0, args=( control_gains, f_const, noise_interp_dict, ), dense_output=True, rtol=1e-3, atol=1e-6, t_eval=t)\u001b[39;00m\n\u001b[1;32m    122\u001b[0m \u001b[38;5;66;03m#y = sol.sol(t)\u001b[39;00m\n\u001b[1;32m    123\u001b[0m \n\u001b[1;32m    124\u001b[0m \n\u001b[1;32m    125\u001b[0m \u001b[38;5;66;03m# Close the progress bar after the integration is complete\u001b[39;00m\n",
      "File \u001b[0;32m~/.pyenv/versions/anaconda3-2023.07-0/lib/python3.11/site-packages/scipy/integrate/_ivp/ivp.py:602\u001b[0m, in \u001b[0;36msolve_ivp\u001b[0;34m(fun, t_span, y0, method, t_eval, dense_output, events, vectorized, args, **options)\u001b[0m\n\u001b[1;32m    600\u001b[0m status \u001b[38;5;241m=\u001b[39m \u001b[38;5;28;01mNone\u001b[39;00m\n\u001b[1;32m    601\u001b[0m \u001b[38;5;28;01mwhile\u001b[39;00m status \u001b[38;5;129;01mis\u001b[39;00m \u001b[38;5;28;01mNone\u001b[39;00m:\n\u001b[0;32m--> 602\u001b[0m     message \u001b[38;5;241m=\u001b[39m solver\u001b[38;5;241m.\u001b[39mstep()\n\u001b[1;32m    604\u001b[0m     \u001b[38;5;28;01mif\u001b[39;00m solver\u001b[38;5;241m.\u001b[39mstatus \u001b[38;5;241m==\u001b[39m \u001b[38;5;124m'\u001b[39m\u001b[38;5;124mfinished\u001b[39m\u001b[38;5;124m'\u001b[39m:\n\u001b[1;32m    605\u001b[0m         status \u001b[38;5;241m=\u001b[39m \u001b[38;5;241m0\u001b[39m\n",
      "File \u001b[0;32m~/.pyenv/versions/anaconda3-2023.07-0/lib/python3.11/site-packages/scipy/integrate/_ivp/base.py:197\u001b[0m, in \u001b[0;36mOdeSolver.step\u001b[0;34m(self)\u001b[0m\n\u001b[1;32m    195\u001b[0m \u001b[38;5;28;01melse\u001b[39;00m:\n\u001b[1;32m    196\u001b[0m     t \u001b[38;5;241m=\u001b[39m \u001b[38;5;28mself\u001b[39m\u001b[38;5;241m.\u001b[39mt\n\u001b[0;32m--> 197\u001b[0m     success, message \u001b[38;5;241m=\u001b[39m \u001b[38;5;28mself\u001b[39m\u001b[38;5;241m.\u001b[39m_step_impl()\n\u001b[1;32m    199\u001b[0m     \u001b[38;5;28;01mif\u001b[39;00m \u001b[38;5;129;01mnot\u001b[39;00m success:\n\u001b[1;32m    200\u001b[0m         \u001b[38;5;28mself\u001b[39m\u001b[38;5;241m.\u001b[39mstatus \u001b[38;5;241m=\u001b[39m \u001b[38;5;124m'\u001b[39m\u001b[38;5;124mfailed\u001b[39m\u001b[38;5;124m'\u001b[39m\n",
      "File \u001b[0;32m~/.pyenv/versions/anaconda3-2023.07-0/lib/python3.11/site-packages/scipy/integrate/_ivp/rk.py:144\u001b[0m, in \u001b[0;36mRungeKutta._step_impl\u001b[0;34m(self)\u001b[0m\n\u001b[1;32m    141\u001b[0m h \u001b[38;5;241m=\u001b[39m t_new \u001b[38;5;241m-\u001b[39m t\n\u001b[1;32m    142\u001b[0m h_abs \u001b[38;5;241m=\u001b[39m np\u001b[38;5;241m.\u001b[39mabs(h)\n\u001b[0;32m--> 144\u001b[0m y_new, f_new \u001b[38;5;241m=\u001b[39m rk_step(\u001b[38;5;28mself\u001b[39m\u001b[38;5;241m.\u001b[39mfun, t, y, \u001b[38;5;28mself\u001b[39m\u001b[38;5;241m.\u001b[39mf, h, \u001b[38;5;28mself\u001b[39m\u001b[38;5;241m.\u001b[39mA,\n\u001b[1;32m    145\u001b[0m                        \u001b[38;5;28mself\u001b[39m\u001b[38;5;241m.\u001b[39mB, \u001b[38;5;28mself\u001b[39m\u001b[38;5;241m.\u001b[39mC, \u001b[38;5;28mself\u001b[39m\u001b[38;5;241m.\u001b[39mK)\n\u001b[1;32m    146\u001b[0m scale \u001b[38;5;241m=\u001b[39m atol \u001b[38;5;241m+\u001b[39m np\u001b[38;5;241m.\u001b[39mmaximum(np\u001b[38;5;241m.\u001b[39mabs(y), np\u001b[38;5;241m.\u001b[39mabs(y_new)) \u001b[38;5;241m*\u001b[39m rtol\n\u001b[1;32m    147\u001b[0m error_norm \u001b[38;5;241m=\u001b[39m \u001b[38;5;28mself\u001b[39m\u001b[38;5;241m.\u001b[39m_estimate_error_norm(\u001b[38;5;28mself\u001b[39m\u001b[38;5;241m.\u001b[39mK, h, scale)\n",
      "File \u001b[0;32m~/.pyenv/versions/anaconda3-2023.07-0/lib/python3.11/site-packages/scipy/integrate/_ivp/rk.py:64\u001b[0m, in \u001b[0;36mrk_step\u001b[0;34m(fun, t, y, f, h, A, B, C, K)\u001b[0m\n\u001b[1;32m     62\u001b[0m \u001b[38;5;28;01mfor\u001b[39;00m s, (a, c) \u001b[38;5;129;01min\u001b[39;00m \u001b[38;5;28menumerate\u001b[39m(\u001b[38;5;28mzip\u001b[39m(A[\u001b[38;5;241m1\u001b[39m:], C[\u001b[38;5;241m1\u001b[39m:]), start\u001b[38;5;241m=\u001b[39m\u001b[38;5;241m1\u001b[39m):\n\u001b[1;32m     63\u001b[0m     dy \u001b[38;5;241m=\u001b[39m np\u001b[38;5;241m.\u001b[39mdot(K[:s]\u001b[38;5;241m.\u001b[39mT, a[:s]) \u001b[38;5;241m*\u001b[39m h\n\u001b[0;32m---> 64\u001b[0m     K[s] \u001b[38;5;241m=\u001b[39m fun(t \u001b[38;5;241m+\u001b[39m c \u001b[38;5;241m*\u001b[39m h, y \u001b[38;5;241m+\u001b[39m dy)\n\u001b[1;32m     66\u001b[0m y_new \u001b[38;5;241m=\u001b[39m y \u001b[38;5;241m+\u001b[39m h \u001b[38;5;241m*\u001b[39m np\u001b[38;5;241m.\u001b[39mdot(K[:\u001b[38;5;241m-\u001b[39m\u001b[38;5;241m1\u001b[39m]\u001b[38;5;241m.\u001b[39mT, B)\n\u001b[1;32m     67\u001b[0m f_new \u001b[38;5;241m=\u001b[39m fun(t \u001b[38;5;241m+\u001b[39m h, y_new)\n",
      "File \u001b[0;32m~/.pyenv/versions/anaconda3-2023.07-0/lib/python3.11/site-packages/scipy/integrate/_ivp/base.py:154\u001b[0m, in \u001b[0;36mOdeSolver.__init__.<locals>.fun\u001b[0;34m(t, y)\u001b[0m\n\u001b[1;32m    152\u001b[0m \u001b[38;5;28;01mdef\u001b[39;00m \u001b[38;5;21mfun\u001b[39m(t, y):\n\u001b[1;32m    153\u001b[0m     \u001b[38;5;28mself\u001b[39m\u001b[38;5;241m.\u001b[39mnfev \u001b[38;5;241m+\u001b[39m\u001b[38;5;241m=\u001b[39m \u001b[38;5;241m1\u001b[39m\n\u001b[0;32m--> 154\u001b[0m     \u001b[38;5;28;01mreturn\u001b[39;00m \u001b[38;5;28mself\u001b[39m\u001b[38;5;241m.\u001b[39mfun_single(t, y)\n",
      "File \u001b[0;32m~/.pyenv/versions/anaconda3-2023.07-0/lib/python3.11/site-packages/scipy/integrate/_ivp/base.py:23\u001b[0m, in \u001b[0;36mcheck_arguments.<locals>.fun_wrapped\u001b[0;34m(t, y)\u001b[0m\n\u001b[1;32m     22\u001b[0m \u001b[38;5;28;01mdef\u001b[39;00m \u001b[38;5;21mfun_wrapped\u001b[39m(t, y):\n\u001b[0;32m---> 23\u001b[0m     \u001b[38;5;28;01mreturn\u001b[39;00m np\u001b[38;5;241m.\u001b[39masarray(fun(t, y), dtype\u001b[38;5;241m=\u001b[39mdtype)\n",
      "File \u001b[0;32m~/.pyenv/versions/anaconda3-2023.07-0/lib/python3.11/site-packages/scipy/integrate/_ivp/ivp.py:540\u001b[0m, in \u001b[0;36msolve_ivp.<locals>.fun\u001b[0;34m(t, x, fun)\u001b[0m\n\u001b[1;32m    539\u001b[0m \u001b[38;5;28;01mdef\u001b[39;00m \u001b[38;5;21mfun\u001b[39m(t, x, fun\u001b[38;5;241m=\u001b[39mfun):\n\u001b[0;32m--> 540\u001b[0m     \u001b[38;5;28;01mreturn\u001b[39;00m fun(t, x, \u001b[38;5;241m*\u001b[39margs)\n",
      "Cell \u001b[0;32mIn[11], line 107\u001b[0m, in \u001b[0;36mwrapper\u001b[0;34m(t, y, *args)\u001b[0m\n\u001b[1;32m    105\u001b[0m pbar\u001b[38;5;241m.\u001b[39mlast_print_n \u001b[38;5;241m=\u001b[39m current_progress\n\u001b[1;32m    106\u001b[0m pbar\u001b[38;5;241m.\u001b[39mrefresh()\n\u001b[0;32m--> 107\u001b[0m \u001b[38;5;28;01mreturn\u001b[39;00m robot_dynamics_w_control_adaptation(t, y, \u001b[38;5;241m*\u001b[39margs)\n",
      "File \u001b[0;32m~/Dropbox/PJ ModelDetection/DREM/DREM_implementation/DREM_routine.py:226\u001b[0m, in \u001b[0;36mrobot_dynamics_w_control_adaptation\u001b[0;34m(t, ytheta_hat, control_gains, f_const, noise_interp_dict)\u001b[0m\n\u001b[1;32m    222\u001b[0m measure_time_end(\u001b[38;5;124m'\u001b[39m\u001b[38;5;124met4\u001b[39m\u001b[38;5;124m'\u001b[39m)\n\u001b[1;32m    224\u001b[0m \u001b[38;5;66;03m####################################################\u001b[39;00m\n\u001b[1;32m    225\u001b[0m \u001b[38;5;66;03m# true dynamics of robot\u001b[39;00m\n\u001b[0;32m--> 226\u001b[0m y_dot, H,C,D,g \u001b[38;5;241m=\u001b[39m robot_dynamics(t, y, theta, tau )\n\u001b[1;32m    228\u001b[0m \u001b[38;5;66;03m# Y_t = regressor(tau, theta_hat)  # current Y for filter 1\u001b[39;00m\n\u001b[1;32m    229\u001b[0m \u001b[38;5;66;03m#######  Test implementation for Y(q,qdot,qddot) #\u001b[39;00m\n\u001b[1;32m    230\u001b[0m \u001b[38;5;66;03m# Y_t = regressor(H@y_dot[3:] + C@y_dot[:3] + D@y_dot[:3] + g, theta)\u001b[39;00m\n\u001b[1;32m    231\u001b[0m \u001b[38;5;66;03m# Y_t = compute_Y(q, q_dot, q_dot, y_dot[3:6]) # to feed for Eq. 25\u001b[39;00m\n\u001b[1;32m    232\u001b[0m q_ddot_obs \u001b[38;5;241m=\u001b[39m y_dot[\u001b[38;5;241m3\u001b[39m:\u001b[38;5;241m6\u001b[39m] \u001b[38;5;241m+\u001b[39m sd\n",
      "File \u001b[0;32m~/Dropbox/PJ ModelDetection/DREM/DREM_implementation/robot_dynamics.py:82\u001b[0m, in \u001b[0;36mrobot_dynamics\u001b[0;34m(t, y, theta, tau)\u001b[0m\n\u001b[1;32m     79\u001b[0m q \u001b[38;5;241m=\u001b[39m y[:\u001b[38;5;241m3\u001b[39m]\n\u001b[1;32m     80\u001b[0m q_dot \u001b[38;5;241m=\u001b[39m y[\u001b[38;5;241m3\u001b[39m:]\n\u001b[0;32m---> 82\u001b[0m H, C, D, g \u001b[38;5;241m=\u001b[39m compute_matrices(q, q_dot, theta)\n\u001b[1;32m     84\u001b[0m \u001b[38;5;66;03m# Assuming no external torque for simplicity\u001b[39;00m\n\u001b[1;32m     85\u001b[0m \n\u001b[1;32m     86\u001b[0m \u001b[38;5;66;03m# Compute joint accelerations\u001b[39;00m\n\u001b[1;32m     87\u001b[0m q_ddot \u001b[38;5;241m=\u001b[39m np\u001b[38;5;241m.\u001b[39mlinalg\u001b[38;5;241m.\u001b[39minv(H) \u001b[38;5;241m@\u001b[39m (tau \u001b[38;5;241m-\u001b[39m C \u001b[38;5;241m@\u001b[39m q_dot \u001b[38;5;241m-\u001b[39m D \u001b[38;5;241m@\u001b[39m q_dot \u001b[38;5;241m-\u001b[39m g)\n",
      "File \u001b[0;32m~/Dropbox/PJ ModelDetection/DREM/DREM_implementation/robot_dynamics.py:25\u001b[0m, in \u001b[0;36mcompute_matrices\u001b[0;34m(q, q_dot, theta)\u001b[0m\n\u001b[1;32m     22\u001b[0m c1, c2, c3, c23 \u001b[38;5;241m=\u001b[39m np\u001b[38;5;241m.\u001b[39mcos(q1), np\u001b[38;5;241m.\u001b[39mcos(q2), np\u001b[38;5;241m.\u001b[39mcos(q3), np\u001b[38;5;241m.\u001b[39mcos(q2 \u001b[38;5;241m+\u001b[39m q3)\n\u001b[1;32m     24\u001b[0m \u001b[38;5;66;03m# Compute matrices and vectors (placeholders, actual computation depends on robot's specifics)\u001b[39;00m\n\u001b[0;32m---> 25\u001b[0m H \u001b[38;5;241m=\u001b[39m np\u001b[38;5;241m.\u001b[39marray([[theta[\u001b[38;5;241m0\u001b[39m] \u001b[38;5;241m+\u001b[39m \u001b[38;5;241m2\u001b[39m\u001b[38;5;241m*\u001b[39mtheta[\u001b[38;5;241m1\u001b[39m]\u001b[38;5;241m*\u001b[39ms2 \u001b[38;5;241m+\u001b[39m \u001b[38;5;241m2\u001b[39m\u001b[38;5;241m*\u001b[39mtheta[\u001b[38;5;241m2\u001b[39m]\u001b[38;5;241m*\u001b[39mc3 \u001b[38;5;241m+\u001b[39m \u001b[38;5;241m2\u001b[39m\u001b[38;5;241m*\u001b[39mtheta[\u001b[38;5;241m3\u001b[39m]\u001b[38;5;241m*\u001b[39ms23, theta[\u001b[38;5;241m1\u001b[39m]\u001b[38;5;241m*\u001b[39ms2 \u001b[38;5;241m+\u001b[39m \u001b[38;5;241m2\u001b[39m\u001b[38;5;241m*\u001b[39mtheta[\u001b[38;5;241m2\u001b[39m]\u001b[38;5;241m*\u001b[39mc3 \u001b[38;5;241m+\u001b[39m theta[\u001b[38;5;241m3\u001b[39m]\u001b[38;5;241m*\u001b[39ms23 \u001b[38;5;241m+\u001b[39m theta[\u001b[38;5;241m4\u001b[39m], theta[\u001b[38;5;241m2\u001b[39m]\u001b[38;5;241m*\u001b[39mc3 \u001b[38;5;241m+\u001b[39m theta[\u001b[38;5;241m3\u001b[39m]\u001b[38;5;241m*\u001b[39ms23 \u001b[38;5;241m+\u001b[39m theta[\u001b[38;5;241m5\u001b[39m]],\n\u001b[1;32m     26\u001b[0m               [theta[\u001b[38;5;241m1\u001b[39m]\u001b[38;5;241m*\u001b[39ms2 \u001b[38;5;241m+\u001b[39m \u001b[38;5;241m2\u001b[39m\u001b[38;5;241m*\u001b[39mtheta[\u001b[38;5;241m2\u001b[39m]\u001b[38;5;241m*\u001b[39mc3 \u001b[38;5;241m+\u001b[39m theta[\u001b[38;5;241m3\u001b[39m]\u001b[38;5;241m*\u001b[39ms23 \u001b[38;5;241m+\u001b[39m theta[\u001b[38;5;241m4\u001b[39m] ,    \u001b[38;5;241m2\u001b[39m\u001b[38;5;241m*\u001b[39mtheta[\u001b[38;5;241m2\u001b[39m]\u001b[38;5;241m*\u001b[39mc3 \u001b[38;5;241m+\u001b[39m theta[\u001b[38;5;241m4\u001b[39m],                              theta[\u001b[38;5;241m2\u001b[39m]\u001b[38;5;241m*\u001b[39mc3 \u001b[38;5;241m+\u001b[39m theta[\u001b[38;5;241m5\u001b[39m]               ],\n\u001b[1;32m     27\u001b[0m               [theta[\u001b[38;5;241m2\u001b[39m]\u001b[38;5;241m*\u001b[39mc3 \u001b[38;5;241m+\u001b[39m theta[\u001b[38;5;241m3\u001b[39m]\u001b[38;5;241m*\u001b[39ms23 \u001b[38;5;241m+\u001b[39m theta[\u001b[38;5;241m5\u001b[39m],                     theta[\u001b[38;5;241m2\u001b[39m]\u001b[38;5;241m*\u001b[39mc3 \u001b[38;5;241m+\u001b[39m theta[\u001b[38;5;241m5\u001b[39m],                                theta[\u001b[38;5;241m5\u001b[39m]                             ]])\n\u001b[1;32m     29\u001b[0m C \u001b[38;5;241m=\u001b[39m np\u001b[38;5;241m.\u001b[39marray([[theta[\u001b[38;5;241m1\u001b[39m]\u001b[38;5;241m*\u001b[39mc2\u001b[38;5;241m*\u001b[39mq2_dot \u001b[38;5;241m-\u001b[39m theta[\u001b[38;5;241m2\u001b[39m]\u001b[38;5;241m*\u001b[39ms3\u001b[38;5;241m*\u001b[39mq3_dot \u001b[38;5;241m+\u001b[39m theta[\u001b[38;5;241m3\u001b[39m]\u001b[38;5;241m*\u001b[39mc23\u001b[38;5;241m*\u001b[39mq23_dot,  theta[\u001b[38;5;241m1\u001b[39m]\u001b[38;5;241m*\u001b[39mc2\u001b[38;5;241m*\u001b[39mq12_dot \u001b[38;5;241m-\u001b[39m theta[\u001b[38;5;241m2\u001b[39m]\u001b[38;5;241m*\u001b[39ms3\u001b[38;5;241m*\u001b[39mq3_dot \u001b[38;5;241m+\u001b[39m theta[\u001b[38;5;241m3\u001b[39m]\u001b[38;5;241m*\u001b[39mc23\u001b[38;5;241m*\u001b[39mq123_dot, \u001b[38;5;241m-\u001b[39mtheta[\u001b[38;5;241m2\u001b[39m]\u001b[38;5;241m*\u001b[39ms3\u001b[38;5;241m*\u001b[39mq123_dot \u001b[38;5;241m+\u001b[39m theta[\u001b[38;5;241m3\u001b[39m]\u001b[38;5;241m*\u001b[39mc23\u001b[38;5;241m*\u001b[39mq123_dot],\n\u001b[1;32m     30\u001b[0m               [\u001b[38;5;241m-\u001b[39m theta[\u001b[38;5;241m1\u001b[39m]\u001b[38;5;241m*\u001b[39mc2\u001b[38;5;241m*\u001b[39mq1_dot \u001b[38;5;241m-\u001b[39m theta[\u001b[38;5;241m2\u001b[39m]\u001b[38;5;241m*\u001b[39ms3\u001b[38;5;241m*\u001b[39mq3_dot \u001b[38;5;241m-\u001b[39m theta[\u001b[38;5;241m3\u001b[39m]\u001b[38;5;241m*\u001b[39mc23\u001b[38;5;241m*\u001b[39mq1_dot, \u001b[38;5;241m-\u001b[39mtheta[\u001b[38;5;241m2\u001b[39m]\u001b[38;5;241m*\u001b[39ms3\u001b[38;5;241m*\u001b[39mq3_dot,                                              \u001b[38;5;241m-\u001b[39mtheta[\u001b[38;5;241m2\u001b[39m]\u001b[38;5;241m*\u001b[39ms3\u001b[38;5;241m*\u001b[39mq123_dot                        ],\n\u001b[1;32m     31\u001b[0m               [theta[\u001b[38;5;241m2\u001b[39m]\u001b[38;5;241m*\u001b[39ms3\u001b[38;5;241m*\u001b[39mq12_dot \u001b[38;5;241m-\u001b[39m theta[\u001b[38;5;241m3\u001b[39m]\u001b[38;5;241m*\u001b[39mc23\u001b[38;5;241m*\u001b[39mq1_dot,                       theta[\u001b[38;5;241m2\u001b[39m]\u001b[38;5;241m*\u001b[39ms3\u001b[38;5;241m*\u001b[39mq12_dot,                                              \u001b[38;5;241m0\u001b[39m                                            ]])\n\u001b[1;32m     34\u001b[0m D \u001b[38;5;241m=\u001b[39m np\u001b[38;5;241m.\u001b[39marray([[theta[\u001b[38;5;241m9\u001b[39m], \u001b[38;5;241m0\u001b[39m,                 \u001b[38;5;241m0\u001b[39m         ], \n\u001b[1;32m     35\u001b[0m               [\u001b[38;5;241m0\u001b[39m,        theta[\u001b[38;5;241m10\u001b[39m] ,        \u001b[38;5;241m0\u001b[39m         ],\n\u001b[1;32m     36\u001b[0m               [\u001b[38;5;241m0\u001b[39m,        \u001b[38;5;241m0\u001b[39m,                 theta[\u001b[38;5;241m11\u001b[39m] ]])\n",
      "\u001b[0;31mKeyboardInterrupt\u001b[0m: "
     ]
    }
   ],
   "source": [
    "\n",
    "# define experiment name\n",
    "exp_list = [\n",
    "            #('00_DREMON_SIGMA000_THREOFF',  True,  0.00,  False     )  ,\n",
    "            #('01_DREMOFF_SIGMA000_THREOFF', False, 0.00,  False ) ,  \n",
    "            #('02_DREMON_SIGMA001_THREOFF',  True,  0.001,  False )  ,\n",
    "            #('03_DREMOFF_SIGMA001_THREOFF', False, 0.001,  False ) ,\n",
    "            #('04_DREMON_SIGMA002_THREOFF',  True,  0.002,  False ) ,\n",
    "            #('05_DREMOFF_SIGMA002_THREOFF', False, 0.002,  False ) ,\n",
    "            #('06_DREMON_SIGMA000_THREON',  True,  0.00,  True  )  ,\n",
    "            #('07_DREMOFF_SIGMA000_THREON', False, 0.00,  True  ) ,  \n",
    "            #('08_DREMON_SIGMA001_THREON',  True,  0.01,  True  )  ,\n",
    "            #('09_DREMOFF_SIGMA001_THREON', False, 0.01,  True  ) ,\n",
    "            #('10_DREMON_SIGMA010_THREON',  True,  0.05,  True  ) ,\n",
    "            #('11_DREMOFF_SIGMA010_THREON', False, 0.05,  True  ) ,\n",
    "            #('13_DREMOFF_SIGMA005_THREOFF', False, 0.005,  False, 100.0, 1.0 ) ,\n",
    "            #('14_DREMOFF_SIGMA005_THREOFF', True, 0.001,  False, 100.0, 10) ,\n",
    "            #('12_DREMON_SIGMA005_THREOFF',  True,  0.005,  False ) ,\n",
    "            #('16_DREMOFF_SIGMA001_THREON', True, 0.001,  True, 100.0, 10) ,\n",
    "            #('17_DREMOFF_SIGMA001_THREON', False, 0.001,  True, 100.0, 10) ,\n",
    "            #('18_DREMON_SIGMA001_THREOFF', True, 0.001,  False, 100.0, 10) ,\n",
    "            #('19_DREMOFF_SIGMA001_THREOFF', False, 0.001,  False, 100.0, 10) ,\n",
    "            #('27_DREMOFF_SIGMA001_THREON', False, 0.001,  True, 100.0, 10, True) ,\n",
    "            #('26_DREMOFF_SIGMA001_THREON', True, 0.001,  True, 100.0, 10, True) ,\n",
    "            #('28_DREMON_SIGMA001_THREOFF', True, 0.001,  False, 100.0, 10, True) ,\n",
    "            #('29_DREMOFF_SIGMA001_THREOFF', False, 0.001,  False, 100.0, 10, True) ,\n",
    "            # ('36_DREMON_SIGMA001_THREOFF', True, 0.001,  False, 20.0, 10, True, 0.01) , # condition 19  extension\n",
    "            #('136_DREMON_SIGMA001_THREOFF', True, 0.001,  False,       100.0, 10, True, 0.01, False, 0.0) , # condition 19  extension\n",
    "            #('236_DREMON_SIGMA001_THREOFF', True, 0.001,  False,       100.0, 10, True, 0.01, 'RLS', 0.0) , # condition 19  extension\n",
    "            #('336_DREMON_SIGMA001_THREOFF', True, 0.001,  'Sigma_mod', 100.0, 10, True, 0.01, False, 1.0) , # condition 19  extension\n",
    "            #('436_DREMON_SIGMA001_THREOFF', True, 0.001,  'Sigma_mod', 100.0, 10, True, 0.01, 'RLS', 1.0) , # condition 19  extension\n",
    "            #('536_DREMON_SIGMA001_THREOFF', True, 0.001,  'Sigma_mod', 100.0, 10, True, 0.01, False, 0.1) , # condition 19  extension\n",
    "            #('636_DREMON_SIGMA001_THREOFF', True, 0.001,  'Sigma_mod', 100.0, 10, True, 0.01, 'RLS', 0.1) , # condition 19  extension\n",
    "            #('736_DREMON_SIGMA001_THREOFF', True, 0.001,  'Sigma_mod', 100.0, 10, True, 0.01, 'RLS_P', 0.1) , # condition 19  extension\n",
    "            #('836_DREMON_SIGMA001_THREOFF', True, 0.001,  False,       100.0, 10, True, 0.01, 'RLS_P', 0.0) , # condition 19  extension\n",
    "            ('936_DREMON_SIGMA001_THREOFF', True, 0.001,  False,       1.0, 10, True,  0.01, 'RLS_P', 0.0) , # condition 19  extension\n",
    "            #('836_DREMON_SIGMA001_THREOFF', True, 0.001,  False,       100.0, 10, False, 0.01, 'RLS_P', 0.0) , # condition 19  extension\n",
    "              # ('37_DREMOFF_SIGMA001_THREOFF', False, 0.001,  False, 20.0, 10, True, 0.01) , # condition 19  extension\n",
    "            # ('38_DREMON_SIGMA001_THREON', True, 0.001,  True, 20.0, 10, True, 0.01) , # condition 19  extension\n",
    "            # ('39_DREMOFF_SIGMA001_THREON', False, 0.001,  True, 20.0, 10, True, 0.01) , # condition 19  extension\n",
    "            #('28_DREMON_SIGMA001_THREON', True, 0.001,  True, 100.0, 10, True, 0.01) , # condition 19  extension\n",
    "            #('48_DREMON_SIGMA001_THREON', True, 0.001,  True, 100.0, 10, True, 0.1) , # condition 19  extension\n",
    "            # ('48_DREMON_SIGMA001_THREON', True, 0.001,  'Sigma_mod', 20.0, 10, True, 0.01) , # condition 19  extension\n",
    "            # ('58_DREMON_SIGMA001_THREON', True,        0.001,  'Sigma_mod', 20.0, 10, True, 0.01, False) , # condition 19  extension\n",
    "            #('68_DREMON_SIGMA001_THREON', 'DREM_ONLY', 0.001,  'Sigma_mod', 20.0, 10, True, 0.01, False) , # condition 19  extension\n",
    "            # ('78_DREMON_SIGMA001_THREON', 'DREM_ONLY', 0.001,  'Sigma_mod', 20.0, 10, True, 0.01, 'RLS') , # condition 19  extension\n",
    "            ]\n",
    "\n",
    "for exp_name, DREMON, sig_o, THREON, TMAX, gain_multiple, INTEGRALERROR, Lambda_i, ASYMDREM, gain_Sigma_mod in exp_list:\n",
    "    \n",
    "    \n",
    "    ###########################################\n",
    "    f_const['TMAX'] = TMAX #  seconds\n",
    "    # modify default params for experiments\n",
    "    f_const['DREMON'] = DREMON\n",
    "    f_const['sigma_o'] = sig_o\n",
    "    f_const['THREON'] = THREON \n",
    "    f_const['INTEGRALERROR'] = INTEGRALERROR\n",
    "    control_gains['Lambda'] = gain_multiple * np.eye(ndim) \n",
    "    control_gains['Lambda_i'] = Lambda_i * np.eye(ndim) \n",
    "    control_gains['Kv'] =     gain_multiple * np.eye(ndim)\n",
    "    control_gains['Psi'] =    gain_multiple * np.eye(pdim)\n",
    "    control_gains['Gamma'] =  gain_multiple * np.eye(pdim)\n",
    "    control_gains['Sigma_mod'] =  gain_Sigma_mod * np.eye(pdim)\n",
    "    f_const['ASYMDREM'] = ASYMDREM\n",
    "    \n",
    "    ###########################################\n",
    "    \n",
    "    # define filtered regressors\n",
    "    Yphi =   np.zeros((f_const['nfilter'] * f_const['ndim'], f_const['ncols']))\n",
    "    tauphi = np.zeros((f_const['nrows']))\n",
    "    ei0 = np.zeros((f_const['ndim']))\n",
    "    phi2sum0 = [0] # integration of phi2\n",
    "    P0 = np.zeros((f_const['nfilter'] * f_const['ndim'], f_const['ncols'])) # integration of Ya.T@Ya \n",
    "\n",
    "     # Time points to evaluate the solution\n",
    "    t = np.linspace(0, f_const['TMAX'], int(f_const['TMAX']*f_const['noise_freq'] + 1))\n",
    "     # Time span for the simulation\n",
    "    t_span = [0.0, f_const['TMAX']]  \n",
    "    \n",
    "    # noise\n",
    "    np.random.seed(seed=32)\n",
    "    noise_info =  stack_noise(f_const['ndim'], n_samples=int(f_const['TMAX']*f_const['noise_freq'] + 1), tbegin=0, tend=f_const['TMAX'], dbgfig=0, sigma_o=f_const['sigma_o'])\n",
    "    noise_interp_dict = wrap_interp_func(t, noise_info) # wrapper for interpolate computation\n",
    "    \n",
    "    # initial condition\n",
    "    ytheta0 = np.concatenate([f_const['init_y'], f_const['theta_hat0'], Yphi.flatten(), tauphi.flatten(), ei0.flatten(), phi2sum0, P0.flatten()])  # (q, q_dot, theta_hat, Yf, tauf)\n",
    "    \n",
    "   \n",
    "   \n",
    "    # prepare noise interp function\n",
    " \n",
    "    # Initialize the progress bar\n",
    "    initial_time, final_time = t_span  # Assuming t_span is defined somewhere as [initial_time, final_time]\n",
    "    total_time = final_time - initial_time\n",
    "    pbar = tqdm(total=total_time)\n",
    "    # Create a tqdm progress bar\n",
    "    \n",
    "    # Wrapper function to update progress bar based on current time t\n",
    "    def wrapper(t, y, *args):\n",
    "        current_progress = t - initial_time\n",
    "        # Update the progress bar to reflect current progress\n",
    "        # Note: set_postfix can be used to display additional information\n",
    "        pbar.n = current_progress\n",
    "        pbar.last_print_n = current_progress\n",
    "        pbar.refresh()\n",
    "        return robot_dynamics_w_control_adaptation(t, y, *args)\n",
    "\n",
    "\n",
    "    # delete prior Solve \n",
    "    # try:\n",
    "    #     del sol, y  # Attempt to delete 'my_variable'\n",
    "    # except NameError:\n",
    "    #     print(\"sol, y is not defined or already deleted.\")\n",
    " \n",
    "    # Evaluate the solution\n",
    "    #sol = solve_ivp(robot_dynamics_w_control_adaptation, t_span, ytheta0, args=( control_gains, f_const, noise_info, ), dense_output=True, rtol=1e-3, atol=1e-6, events=callback)\n",
    "    #sol = solve_ivp(wrapper, t_span, ytheta0, args=( control_gains, f_const, noise_interp_dict, ), dense_output=False, rtol=1, atol=1, max_step=0.0001, t_eval=t)\n",
    "    sol = solve_ivp(wrapper, t_span, ytheta0, args=( control_gains, f_const, noise_interp_dict, ), dense_output=False, rtol=1e-3, atol=1e-4, t_eval=t)\n",
    "    y = sol.y\n",
    "    #sol = solve_ivp(wrapper, t_span, ytheta0, args=( control_gains, f_const, noise_interp_dict, ), dense_output=True, rtol=1e-3, atol=1e-6, t_eval=t)\n",
    "    #y = sol.sol(t)\n",
    "    \n",
    "    \n",
    "    # Close the progress bar after the integration is complete\n",
    "    pbar.close()\n",
    "\n",
    "\n",
    "    ####################################################    \n",
    "    # post process \n",
    "    ####################################################    \n",
    "\n",
    "    # show analysis resutls\n",
    "    save_dir = 'img/'\n",
    "    savepath = os.path.join(save_dir, exp_name)\n",
    "    analysis_result(t,y,theta_hat0, f_const, save=True, savepath=savepath, figshow=0, )\n",
    "    \n",
    "    # merge dictionaries\n",
    "    parameters = f_const | control_gains | noise_info\n",
    "    save_params(parameters,   savepath=savepath)\n",
    "    save_params(f_const,      savepath=savepath, filename='f_const.json')\n",
    "    save_params(control_gains,savepath=savepath, filename='control_gains.json')\n",
    "    save_params(noise_info,   savepath=savepath, filename='noise_info.json')\n",
    "\n",
    "    # save result\n",
    "    save_as_pickle(sol, savepath + '/solution.pickle')\n",
    "\n"
   ]
  },
  {
   "cell_type": "code",
   "execution_count": 160,
   "metadata": {},
   "outputs": [
    {
     "ename": "NameError",
     "evalue": "name 'sol' is not defined",
     "output_type": "error",
     "traceback": [
      "\u001b[0;31m---------------------------------------------------------------------------\u001b[0m",
      "\u001b[0;31mNameError\u001b[0m                                 Traceback (most recent call last)",
      "\u001b[1;32m/Users/hiroki/Dropbox/PJ ModelDetection/DREM/DREM_implementation/DREM.ipynb Cell 8\u001b[0m line \u001b[0;36m1\n\u001b[0;32m----> <a href='vscode-notebook-cell:/Users/hiroki/Dropbox/PJ%20ModelDetection/DREM/DREM_implementation/DREM.ipynb#X26sZmlsZQ%3D%3D?line=0'>1</a>\u001b[0m sol\u001b[39m.\u001b[39my[\u001b[39m-\u001b[39m\u001b[39m2\u001b[39m]\n",
      "\u001b[0;31mNameError\u001b[0m: name 'sol' is not defined"
     ]
    }
   ],
   "source": [
    "sol.y[-2]"
   ]
  },
  {
   "cell_type": "code",
   "execution_count": 161,
   "metadata": {},
   "outputs": [],
   "source": [
    "import pickle\n",
    "file_exp16 = '/Users/hiroki/Dropbox/PJ ModelDetection/DREM/DREM_implementation/img/936_DREMON_SIGMA001_THREOFF/solution.pickle'\n",
    "with open(file_exp16, 'rb') as f:\n",
    "    foo = pickle.load(f)"
   ]
  },
  {
   "cell_type": "code",
   "execution_count": 197,
   "metadata": {},
   "outputs": [
    {
     "data": {
      "text/plain": [
       "array([[0., 0., 0., 0., 0., 0., 0., 0., 0., 0., 0., 0.],\n",
       "       [0., 0., 0., 0., 0., 0., 0., 0., 0., 0., 0., 0.],\n",
       "       [0., 0., 0., 0., 0., 0., 0., 0., 0., 0., 0., 0.],\n",
       "       [0., 0., 0., 0., 0., 0., 0., 0., 0., 0., 0., 0.],\n",
       "       [0., 0., 0., 0., 0., 0., 0., 0., 0., 0., 0., 0.],\n",
       "       [0., 0., 0., 0., 0., 0., 0., 0., 0., 0., 0., 0.],\n",
       "       [0., 0., 0., 0., 0., 0., 0., 0., 0., 0., 0., 0.],\n",
       "       [0., 0., 0., 0., 0., 0., 0., 0., 0., 0., 0., 0.],\n",
       "       [0., 0., 0., 0., 0., 0., 0., 0., 0., 0., 0., 0.],\n",
       "       [0., 0., 0., 0., 0., 0., 0., 0., 0., 0., 0., 0.],\n",
       "       [0., 0., 0., 0., 0., 0., 0., 0., 0., 0., 0., 0.],\n",
       "       [0., 0., 0., 0., 0., 0., 0., 0., 0., 0., 0., 0.]])"
      ]
     },
     "execution_count": 197,
     "metadata": {},
     "output_type": "execute_result"
    }
   ],
   "source": [
    "foo.y[:,-1][-144:].reshape(12,12)"
   ]
  },
  {
   "cell_type": "code",
   "execution_count": 37,
   "metadata": {},
   "outputs": [],
   "source": [
    "\n",
    "with open(file_exp16, 'wb') as f:\n",
    "    pickle.dump(foo, f)"
   ]
  },
  {
   "cell_type": "code",
   "execution_count": 36,
   "metadata": {},
   "outputs": [],
   "source": [
    "foo.sol = None"
   ]
  },
  {
   "cell_type": "code",
   "execution_count": 16,
   "metadata": {},
   "outputs": [
    {
     "name": "stdout",
     "output_type": "stream",
     "text": [
      "Variable Name\tMemory Usage\n",
      "In\t248 bytes\n",
      "Out\t224 bytes\n",
      "get_ipython\t64 bytes\n",
      "exit\t56 bytes\n",
      "quit\t56 bytes\n",
      "open\t152 bytes\n",
      "np\t72 bytes\n",
      "solve_ivp\t152 bytes\n",
      "plt\t72 bytes\n",
      "stack_noise\t152 bytes\n",
      "robot_dynamics_w_control_adaptation\t152 bytes\n",
      "analysis_result\t152 bytes\n",
      "save_params\t152 bytes\n",
      "save_as_pickle\t152 bytes\n",
      "wrap_interp_func\t152 bytes\n",
      "parse_noise_interp_dict\t152 bytes\n",
      "theta\t208 bytes\n",
      "theta_hat0\t208 bytes\n",
      "pdim\t28 bytes\n",
      "ndim\t28 bytes\n",
      "nfilter\t28 bytes\n",
      "q_d\t136 bytes\n",
      "init_y\t160 bytes\n",
      "f_const\t832 bytes\n",
      "tau\t136 bytes\n",
      "Lambda\t200 bytes\n",
      "Kv\t200 bytes\n",
      "Psi\t1280 bytes\n",
      "Gamma\t1280 bytes\n",
      "alpha\t24 bytes\n",
      "control_gains\t184 bytes\n",
      "exp_list\t72 bytes\n",
      "exp_name\t75 bytes\n",
      "DREMON\t28 bytes\n",
      "sig_o\t24 bytes\n",
      "THREON\t28 bytes\n",
      "TMAX\t24 bytes\n",
      "gain_multiple\t28 bytes\n",
      "Yphi\t1280 bytes\n",
      "tauphi\t208 bytes\n",
      "t\t112 bytes\n",
      "t_span\t72 bytes\n",
      "noise_info\t184 bytes\n",
      "noise_interp_dict\t184 bytes\n",
      "ytheta0\t1504 bytes\n",
      "initial_time\t24 bytes\n",
      "final_time\t24 bytes\n",
      "total_time\t24 bytes\n",
      "pbar\t56 bytes\n",
      "wrapper\t152 bytes\n",
      "save_dir\t53 bytes\n",
      "savepath\t79 bytes\n",
      "parameters\t832 bytes\n",
      "sol\t488 bytes\n",
      "y\t697520 bytes\n",
      "display_memory_usage\t152 bytes\n"
     ]
    }
   ],
   "source": [
    "\n",
    "# Function to display memory usage of variables\n",
    "def display_memory_usage():\n",
    "    print(\"Variable Name\\tMemory Usage\")\n",
    "    for variable_name in globals().copy():\n",
    "        # Filter out system and module variables\n",
    "        if not variable_name.startswith(\"_\") and variable_name not in sys.modules:\n",
    "            print(f\"{variable_name}\\t{sys.getsizeof(globals()[variable_name])} bytes\")\n",
    "\n",
    "# Call the function to display memory usage\n",
    "display_memory_usage()"
   ]
  },
  {
   "cell_type": "code",
   "execution_count": 18,
   "metadata": {},
   "outputs": [
    {
     "data": {
      "text/plain": [
       "  message: The solver successfully reached the end of the integration interval.\n",
       "  success: True\n",
       "   status: 0\n",
       "        t: [ 0.000e+00  2.000e-01 ...  9.980e+01  1.000e+02]\n",
       "        y: [[ 0.000e+00  1.328e+00 ...  1.571e+00  1.570e+00]\n",
       "            [ 0.000e+00 -1.373e+00 ... -1.570e+00 -1.570e+00]\n",
       "            ...\n",
       "            [ 0.000e+00  2.026e+03 ...  2.107e+00  5.226e-01]\n",
       "            [ 0.000e+00 -2.647e+02 ...  2.318e-01 -1.471e-01]]\n",
       "      sol: None\n",
       " t_events: None\n",
       " y_events: None\n",
       "     nfev: 1007030\n",
       "     njev: 0\n",
       "      nlu: 0"
      ]
     },
     "execution_count": 18,
     "metadata": {},
     "output_type": "execute_result"
    }
   ],
   "source": [
    "sol"
   ]
  },
  {
   "cell_type": "code",
   "execution_count": null,
   "metadata": {},
   "outputs": [
    {
     "data": {
      "text/plain": [
       "10"
      ]
     },
     "execution_count": 28,
     "metadata": {},
     "output_type": "execute_result"
    }
   ],
   "source": [
    "f_const['noise_freq']"
   ]
  },
  {
   "cell_type": "code",
   "execution_count": null,
   "metadata": {},
   "outputs": [],
   "source": [
    "# def theta_dot_thre(theta_hat, theta, ratio, theta_hat_dot):\n",
    "#     # ratio indicates parameter estimation errror allowance\n",
    "#     # currently only define for theta>0 case\n",
    "# \n",
    "#     def are_all_positive(numbers):\n",
    "#         return all(n > 0 for n in numbers)\n",
    "#     \n",
    "#     # Example usage\n",
    "# \n",
    "# \n",
    "#     if are_all_positive(theta):\n",
    "#         theta_hat_dot [( theta * ratio[0] > theta_hat) & (theta_hat_dot<0) ] = 0\n",
    "#         theta_hat_dot [( theta * ratio[1] < theta_hat) & (theta_hat_dot>0) ] = 0\n",
    "#         return theta_hat_dot\n",
    "# \n",
    "#     else:\n",
    "#         raise ValueError(\"Not all elements are positive.\")\n",
    "# \n",
    "# \n",
    "# \n",
    "# numbers = np.array([1,2,3,4,5])\n",
    "# estimate = np.random.rand(5) - 1/2\n",
    "# theta_hat_dot = np.random.rand(5) - 1/2\n",
    "# theta_dot_thre(estimate, numbers, np.array([0.2, 2]), theta_hat_dot)"
   ]
  },
  {
   "cell_type": "code",
   "execution_count": 15,
   "metadata": {},
   "outputs": [
    {
     "name": "stdout",
     "output_type": "stream",
     "text": [
      "Directory 'img/18_DREMON_SIGMA001_THREOFF' was created.\n",
      "Parameters have been saved to img/18_DREMON_SIGMA001_THREOFF/parameters.json.\n",
      "Parameters have been saved to img/18_DREMON_SIGMA001_THREOFF/f_const.json.\n",
      "Parameters have been saved to img/18_DREMON_SIGMA001_THREOFF/control_gains.json.\n",
      "Parameters have been saved to img/18_DREMON_SIGMA001_THREOFF/noise_info.json.\n",
      "Variable successfully saved to img/18_DREMON_SIGMA001_THREOFF/solution.pickle\n"
     ]
    }
   ],
   "source": [
    "    y = sol.y\n",
    "    \n",
    "    # Close the progress bar after the integration is complete\n",
    "    pbar.close()\n",
    "\n",
    "\n",
    "    ####################################################    \n",
    "    # post process \n",
    "    ####################################################    \n",
    "\n",
    "    # show analysis resutls\n",
    "    save_dir = 'img/'\n",
    "    savepath = os.path.join(save_dir, exp_name)\n",
    "    analysis_result(t,y,theta_hat0, f_const, save=True, savepath=savepath, figshow=0, )\n",
    "    \n",
    "    # merge dictionaries\n",
    "    parameters = f_const | control_gains | noise_info\n",
    "    save_params(parameters,   savepath=savepath)\n",
    "    save_params(f_const,      savepath=savepath, filename='f_const.json')\n",
    "    save_params(control_gains,savepath=savepath, filename='control_gains.json')\n",
    "    save_params(noise_info,   savepath=savepath, filename='noise_info.json')\n",
    "\n",
    "    # save result\n",
    "    save_as_pickle(sol, savepath + '/solution.pickle')\n"
   ]
  },
  {
   "cell_type": "code",
   "execution_count": null,
   "metadata": {},
   "outputs": [],
   "source": [
    "import DREM_routine\n",
    "plt.hist(DREM_routine.elapsed_dict['et1'], bins=100)\n",
    "plt.show()\n",
    "plt.hist(DREM_routine.elapsed_dict['et2'], bins=100)\n",
    "plt.show()\n",
    "plt.hist(DREM_routine.elapsed_dict['et3'], bins=100)\n",
    "plt.show()\n",
    "plt.hist(DREM_routine.elapsed_dict['et4'], bins=100)\n",
    "plt.show()\n",
    "plt.hist(DREM_routine.elapsed_dict['et5'], bins=100)\n",
    "plt.show()"
   ]
  }
 ],
 "metadata": {
  "kernelspec": {
   "display_name": "base",
   "language": "python",
   "name": "python3"
  },
  "language_info": {
   "codemirror_mode": {
    "name": "ipython",
    "version": 3
   },
   "file_extension": ".py",
   "mimetype": "text/x-python",
   "name": "python",
   "nbconvert_exporter": "python",
   "pygments_lexer": "ipython3",
   "version": "3.11.3"
  }
 },
 "nbformat": 4,
 "nbformat_minor": 2
}
